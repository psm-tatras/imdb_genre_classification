{
 "cells": [
  {
   "cell_type": "code",
   "execution_count": 1,
   "metadata": {},
   "outputs": [],
   "source": [
    "import pandas as pd\n",
    "import sys,json,pickle\n",
    "from utils import *\n",
    "from config import *"
   ]
  },
  {
   "attachments": {},
   "cell_type": "markdown",
   "metadata": {},
   "source": [
    "Original file downloaded from Kaggle"
   ]
  },
  {
   "cell_type": "code",
   "execution_count": 2,
   "metadata": {},
   "outputs": [],
   "source": [
    "train_file = \"data/Genre Classification Dataset/train_data.txt\"\n",
    "test_file = \"data/Genre Classification Dataset/test_data.txt\" # Kaggle Test file , does not have Labels"
   ]
  },
  {
   "attachments": {},
   "cell_type": "markdown",
   "metadata": {},
   "source": [
    "Load Train data in dataframe"
   ]
  },
  {
   "cell_type": "code",
   "execution_count": 2,
   "metadata": {},
   "outputs": [
    {
     "ename": "NameError",
     "evalue": "name 'train_file' is not defined",
     "output_type": "error",
     "traceback": [
      "\u001b[0;31m---------------------------------------------------------------------------\u001b[0m",
      "\u001b[0;31mNameError\u001b[0m                                 Traceback (most recent call last)",
      "Cell \u001b[0;32mIn[2], line 1\u001b[0m\n\u001b[0;32m----> 1\u001b[0m train_df \u001b[39m=\u001b[39m pd\u001b[39m.\u001b[39mread_csv(train_file,delimiter\u001b[39m=\u001b[39m\u001b[39m\"\u001b[39m\u001b[39m ::: \u001b[39m\u001b[39m\"\u001b[39m)\n\u001b[1;32m      2\u001b[0m column_names \u001b[39m=\u001b[39m [\u001b[39m\"\u001b[39m\u001b[39mID\u001b[39m\u001b[39m\"\u001b[39m,\u001b[39m\"\u001b[39m\u001b[39mTitle\u001b[39m\u001b[39m\"\u001b[39m,\u001b[39m\"\u001b[39m\u001b[39mGenre\u001b[39m\u001b[39m\"\u001b[39m,\u001b[39m\"\u001b[39m\u001b[39mDescription\u001b[39m\u001b[39m\"\u001b[39m]\n\u001b[1;32m      3\u001b[0m train_df\u001b[39m.\u001b[39mcolumns \u001b[39m=\u001b[39m column_names\n",
      "\u001b[0;31mNameError\u001b[0m: name 'train_file' is not defined"
     ]
    }
   ],
   "source": [
    "train_df = pd.read_csv(train_file,delimiter=\" ::: \")\n",
    "column_names = [\"ID\",\"Title\",\"Genre\",\"Description\"]\n",
    "train_df.columns = column_names\n",
    "print(train_df.head())"
   ]
  },
  {
   "attachments": {},
   "cell_type": "markdown",
   "metadata": {},
   "source": [
    "Find Unique labels and create label map"
   ]
  },
  {
   "cell_type": "code",
   "execution_count": 4,
   "metadata": {},
   "outputs": [
    {
     "name": "stdout",
     "output_type": "stream",
     "text": [
      "['thriller', 'adult', 'drama', 'documentary', 'comedy', 'crime', 'reality-tv', 'horror', 'sport', 'animation', 'action', 'fantasy', 'short', 'sci-fi', 'music', 'adventure', 'talk-show', 'western', 'family', 'mystery', 'history', 'news', 'biography', 'romance', 'game-show', 'musical', 'war']\n"
     ]
    }
   ],
   "source": [
    "labels = list(train_df[\"Genre\"].unique())\n",
    "print(labels)\n",
    "label2ind = {l:i for i,l in enumerate(labels)}\n",
    "ind2label = {i:l for l,i in label2ind.items()}\n",
    "with open(\"data/label2ind.json\",\"w\") as f:\n",
    "    json.dump(label2ind,f,indent=1)\n",
    "with open(\"data/ind2label.json\",\"w\") as f:\n",
    "    json.dump(ind2label,f,indent=1)"
   ]
  },
  {
   "attachments": {},
   "cell_type": "markdown",
   "metadata": {},
   "source": [
    "Create a new dataframe with only text and label columnn, also dump in CSV"
   ]
  },
  {
   "cell_type": "code",
   "execution_count": 5,
   "metadata": {},
   "outputs": [
    {
     "name": "stdout",
     "output_type": "stream",
     "text": [
      "                                         Description        Genre\n",
      "0  A brother and sister with a past incestuous re...     thriller\n",
      "1  As the bus empties the students for their fiel...        adult\n",
      "2  To help their unemployed father make ends meet...        drama\n",
      "3  The film's title refers not only to the un-rec...        drama\n",
      "4  Quality Control consists of a series of 16mm s...  documentary\n"
     ]
    }
   ],
   "source": [
    "new_train_df = train_df[[\"Description\",\"Genre\"]]\n",
    "print(new_train_df.head())\n",
    "train_file_path = \"data/imdb_genre_train.csv\"\n",
    "new_train_df.to_csv(train_file_path,sep=\"@\")"
   ]
  },
  {
   "attachments": {},
   "cell_type": "markdown",
   "metadata": {},
   "source": [
    "Prepare Train and Validation set"
   ]
  },
  {
   "cell_type": "code",
   "execution_count": 3,
   "metadata": {},
   "outputs": [
    {
     "name": "stdout",
     "output_type": "stream",
     "text": [
      "Total 30362 x_train, 30362 y_train\n",
      "Total 16262 x_val, 16262 y_val\n",
      "Total 7589 x_test, 7589 y_test\n"
     ]
    }
   ],
   "source": [
    "# load all data\n",
    "all_texts,all_labels = load_partial_data(train_csv_file,n=-1)\n",
    "# split data in Train and Validation\n",
    "train_data,val_data = split_for_train(all_texts,all_labels)\n",
    "x_train,y_train = train_data[0],train_data[1]\n",
    "x_val,y_val = val_data[0],val_data[1]\n",
    "# Further split Train data in Test as Original Kaggle Test data does not have labels\n",
    "train_data,test_data = split_for_train(x_train,y_train,val_split=0.2)\n",
    "x_train,y_train = train_data[0],train_data[1]\n",
    "x_test,y_test = test_data[0],test_data[1]\n",
    "print(\"Total %d x_train, %d y_train\"%(len(x_train),len(y_train)))\n",
    "print(\"Total %d x_val, %d y_val\"%(len(x_val),len(y_val)))\n",
    "print(\"Total %d x_test, %d y_test\"%(len(x_test),len(y_test)))"
   ]
  },
  {
   "attachments": {},
   "cell_type": "markdown",
   "metadata": {},
   "source": [
    "Dump all the data in PKL file"
   ]
  },
  {
   "cell_type": "code",
   "execution_count": 4,
   "metadata": {},
   "outputs": [],
   "source": [
    "with open(train_pkl,\"wb\") as f:\n",
    "    pickle.dump((x_train,y_train),f)\n",
    "with open(test_pkl,\"wb\") as f:\n",
    "    pickle.dump((x_test,y_test),f)\n",
    "with open(validation_pkl,\"wb\") as f:\n",
    "    pickle.dump((x_val,y_val),f)"
   ]
  },
  {
   "attachments": {},
   "cell_type": "markdown",
   "metadata": {},
   "source": [
    "Load Original Kaggle Test data "
   ]
  },
  {
   "cell_type": "code",
   "execution_count": 8,
   "metadata": {},
   "outputs": [
    {
     "name": "stderr",
     "output_type": "stream",
     "text": [
      "/tmp/ipykernel_12020/889731494.py:1: ParserWarning: Falling back to the 'python' engine because the 'c' engine does not support regex separators (separators > 1 char and different from '\\s+' are interpreted as regex); you can avoid this warning by specifying engine='python'.\n",
      "  test_df = pd.read_csv(test_file,delimiter=\" ::: \")\n"
     ]
    },
    {
     "name": "stdout",
     "output_type": "stream",
     "text": [
      "   1         Edgar's Lunch (1998)  \\\n",
      "0  2     La guerra de papá (1977)   \n",
      "1  3  Off the Beaten Track (2010)   \n",
      "2  4       Meu Amigo Hindu (2015)   \n",
      "3  5            Er nu zhai (1955)   \n",
      "4  6           Riddle Room (2016)   \n",
      "\n",
      "  L.R. Brane loves his life - his car, his apartment, his job, but especially his girlfriend, Vespa. One day while showering, Vespa runs out of shampoo. L.R. runs across the street to a convenience store to buy some more, a quick trip of no more than a few minutes. When he returns, Vespa is gone and every trace of her existence has been wiped out. L.R.'s life becomes a tortured existence as one strange event after another occurs to confirm in his mind that a conspiracy is working against his finding Vespa.  \n",
      "0  Spain, March 1964: Quico is a very naughty chi...                                                                                                                                                                                                                                                                                                                                                                                                                                                                             \n",
      "1  One year in the life of Albin and his family o...                                                                                                                                                                                                                                                                                                                                                                                                                                                                             \n",
      "2  His father has died, he hasn't spoken with his...                                                                                                                                                                                                                                                                                                                                                                                                                                                                             \n",
      "3  Before he was known internationally as a marti...                                                                                                                                                                                                                                                                                                                                                                                                                                                                             \n",
      "4  Emily Burns is being held captive in a room wi...                                                                                                                                                                                                                                                                                                                                                                                                                                                                             \n"
     ]
    }
   ],
   "source": [
    "test_df = pd.read_csv(test_file,delimiter=\" ::: \")\n",
    "print(test_df.head())"
   ]
  }
 ],
 "metadata": {
  "kernelspec": {
   "display_name": "tatras_p310",
   "language": "python",
   "name": "python3"
  },
  "language_info": {
   "codemirror_mode": {
    "name": "ipython",
    "version": 3
   },
   "file_extension": ".py",
   "mimetype": "text/x-python",
   "name": "python",
   "nbconvert_exporter": "python",
   "pygments_lexer": "ipython3",
   "version": "3.10.6"
  },
  "orig_nbformat": 4
 },
 "nbformat": 4,
 "nbformat_minor": 2
}
